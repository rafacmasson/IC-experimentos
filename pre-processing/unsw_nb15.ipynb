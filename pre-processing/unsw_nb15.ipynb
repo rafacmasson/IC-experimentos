{
  "cells": [
    {
      "cell_type": "markdown",
      "metadata": {},
      "source": [
        "## Importing libraries"
      ]
    },
    {
      "cell_type": "code",
      "execution_count": null,
      "metadata": {},
      "outputs": [],
      "source": [
        "import pandas as pd\n",
        "from sklearn.model_selection import train_test_split"
      ]
    },
    {
      "cell_type": "markdown",
      "metadata": {},
      "source": [
        "## Importing functions"
      ]
    },
    {
      "cell_type": "code",
      "execution_count": null,
      "metadata": {},
      "outputs": [],
      "source": [
        "from pre_processing_functions import (\n",
        "    remove_attributes, convert_to_numeric, handle_categorical_values, handle_categoricals, normalize\n",
        ")"
      ]
    },
    {
      "cell_type": "markdown",
      "metadata": {},
      "source": [
        "## Selecting the dataset"
      ]
    },
    {
      "cell_type": "code",
      "execution_count": null,
      "metadata": {},
      "outputs": [],
      "source": [
        "datasets = ['cic_ids_2017', 'nsl_kdd', 'unsw_nb15']\n",
        "\n",
        "dataset = datasets[2]"
      ]
    },
    {
      "cell_type": "markdown",
      "metadata": {},
      "source": [
        "## Loading the data"
      ]
    },
    {
      "cell_type": "code",
      "execution_count": null,
      "metadata": {
        "id": "9xxwfZxRWFfd"
      },
      "outputs": [],
      "source": [
        "df =  pd.read_csv(f\"../untreated-datasets/{dataset}.csv\")\n",
        "# train = pd.read_csv(f\"../untreated-datasets/{dataset}_train.csv\")\n",
        "# test = pd.read_csv(f\"../untreated-datasets/{dataset}_test.csv\")"
      ]
    },
    {
      "cell_type": "markdown",
      "metadata": {},
      "source": [
        "## Splitting into training and testing"
      ]
    },
    {
      "cell_type": "code",
      "execution_count": null,
      "metadata": {},
      "outputs": [],
      "source": [
        "df.drop_duplicates(inplace=True)"
      ]
    },
    {
      "cell_type": "code",
      "execution_count": null,
      "metadata": {},
      "outputs": [],
      "source": [
        "train, test = train_test_split(df, test_size=0.3, random_state=42)"
      ]
    },
    {
      "cell_type": "code",
      "execution_count": null,
      "metadata": {},
      "outputs": [],
      "source": [
        "train = train.reset_index(drop=True)\n",
        "test = test.reset_index(drop=True)"
      ]
    },
    {
      "cell_type": "markdown",
      "metadata": {},
      "source": [
        "## Pre-processing"
      ]
    },
    {
      "cell_type": "code",
      "execution_count": null,
      "metadata": {},
      "outputs": [],
      "source": [
        "atributos = ['Stime', 'Ltime', 'srcip', 'dstip', 'sport', 'dsport', 'Label']\n",
        "\n",
        "train = remove_attributes(train, atributos)\n",
        "test = remove_attributes(test, atributos)"
      ]
    },
    {
      "cell_type": "code",
      "execution_count": null,
      "metadata": {},
      "outputs": [],
      "source": [
        "train = convert_to_numeric(train, 'ct_ftp_cmd')\n",
        "test = convert_to_numeric(test, 'ct_ftp_cmd')"
      ]
    },
    {
      "cell_type": "code",
      "execution_count": null,
      "metadata": {},
      "outputs": [],
      "source": [
        "# Label Normal appears as NaN\n",
        "train['attack_cat'] = train['attack_cat'].fillna('Normal').str.strip()\n",
        "test['attack_cat'] = test['attack_cat'].fillna('Normal').str.strip()"
      ]
    },
    {
      "cell_type": "code",
      "execution_count": null,
      "metadata": {},
      "outputs": [],
      "source": [
        "# List of categorical columns\n",
        "categorical_columns = ['proto', 'service', 'state']"
      ]
    },
    {
      "cell_type": "code",
      "execution_count": null,
      "metadata": {},
      "outputs": [],
      "source": [
        "train = handle_categorical_values(train, categorical_columns)\n",
        "test = handle_categorical_values(test, categorical_columns)"
      ]
    },
    {
      "cell_type": "code",
      "execution_count": null,
      "metadata": {},
      "outputs": [],
      "source": [
        "df = pd.concat([train, test], ignore_index=True)\n",
        "\n",
        "df = handle_categoricals(df, categorical_columns)\n",
        "\n",
        "train = df[:len(train)]\n",
        "test = df[len(train):]\n",
        "\n",
        "train = train.reset_index(drop=True)\n",
        "test = test.reset_index(drop=True)"
      ]
    },
    {
      "cell_type": "code",
      "execution_count": null,
      "metadata": {},
      "outputs": [],
      "source": [
        "# Columns with missing values ['ct_flw_http_mthd', 'is_ftp_login']\n",
        "train = train.fillna(0)\n",
        "test = test.fillna(0)"
      ]
    },
    {
      "cell_type": "markdown",
      "metadata": {},
      "source": [
        "## Transforming the datasets for binary classification (optional)"
      ]
    },
    {
      "cell_type": "code",
      "execution_count": null,
      "metadata": {},
      "outputs": [],
      "source": [
        "# binary_train = train.copy()\n",
        "# binary_train['attack_cat'] = binary_train['attack_cat'].map(lambda a: 'normal' if a == 'Normal' else 'attack')\n",
        "\n",
        "# binary_test = test.copy()\n",
        "# binary_test['attack_cat'] = binary_test['attack_cat'].map(lambda a: 'normal' if a == 'Normal' else 'attack')"
      ]
    },
    {
      "cell_type": "markdown",
      "metadata": {},
      "source": [
        "## Generating a file for the datasets without normalization"
      ]
    },
    {
      "cell_type": "code",
      "execution_count": null,
      "metadata": {},
      "outputs": [],
      "source": [
        "train.to_csv(f\"../processed-datasets/{dataset}_train_processed.csv\", index=False)\n",
        "test.to_csv(f\"../processed-datasets/{dataset}_test_processed.csv\", index=False)\n",
        "\n",
        "# binary_train.to_csv(f\"../processed-datasets/binary_{dataset}_train_processed.csv\", index=False)\n",
        "# binary_test.to_csv(f\"../processed-datasets/binary_{dataset}_test_processed.csv\", index=False)"
      ]
    },
    {
      "cell_type": "markdown",
      "metadata": {},
      "source": [
        "## Normalization"
      ]
    },
    {
      "cell_type": "code",
      "execution_count": null,
      "metadata": {},
      "outputs": [],
      "source": [
        "train, test = normalize(train, test)\n",
        "\n",
        "# binary_train, binary_test = normalize(binary_train, binary_test)"
      ]
    },
    {
      "cell_type": "markdown",
      "metadata": {},
      "source": [
        "## Generating a file for the normalized datasets"
      ]
    },
    {
      "cell_type": "code",
      "execution_count": null,
      "metadata": {},
      "outputs": [],
      "source": [
        "train.to_csv(f\"../processed-datasets/{dataset}_train_normalized.csv\", index=False)\n",
        "test.to_csv(f\"../processed-datasets/{dataset}_test_normalized.csv\", index=False)\n",
        "\n",
        "# binary_train.to_csv(f\"../processed-datasets/binary_{dataset}_train_normalized.csv\", index=False)\n",
        "# binary_test.to_csv(f\"../processed-datasets/binary_{dataset}_test_normalized.csv\", index=False)"
      ]
    }
  ],
  "metadata": {
    "colab": {
      "provenance": []
    },
    "kernelspec": {
      "display_name": "Python 3",
      "language": "python",
      "name": "python3"
    },
    "language_info": {
      "codemirror_mode": {
        "name": "ipython",
        "version": 3
      },
      "file_extension": ".py",
      "mimetype": "text/x-python",
      "name": "python",
      "nbconvert_exporter": "python",
      "pygments_lexer": "ipython3",
      "version": "3.11.4"
    },
    "vscode": {
      "interpreter": {
        "hash": "318f2c383d48220c821fefd227250c35bb828f95042f5889a5ad1704b1baf79c"
      }
    }
  },
  "nbformat": 4,
  "nbformat_minor": 0
}
